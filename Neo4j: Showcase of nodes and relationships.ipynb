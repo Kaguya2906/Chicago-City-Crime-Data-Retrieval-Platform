{
  "cells": [
    {
      "cell_type": "markdown",
      "metadata": {
        "id": "view-in-github",
        "colab_type": "text"
      },
      "source": [
        "<a href=\"https://colab.research.google.com/github/Kaguya2906/Chicago-City-Crime-Data-Retrieval-Platform/blob/main/Neo4j%3A%20Showcase%20of%20nodes%20and%20relationships.ipynb\" target=\"_parent\"><img src=\"https://colab.research.google.com/assets/colab-badge.svg\" alt=\"Open In Colab\"/></a>"
      ]
    },
    {
      "cell_type": "markdown",
      "metadata": {
        "id": "PC3L-IwGIY2W"
      },
      "source": [
        "# neo4j\n",
        "showing the relationship between each column in the data frame"
      ]
    },
    {
      "cell_type": "code",
      "execution_count": null,
      "metadata": {
        "id": "PCAmeq10IxwI"
      },
      "outputs": [],
      "source": [
        "import requests\n",
        "import numpy as np\n",
        "import pandas as pd"
      ]
    },
    {
      "cell_type": "markdown",
      "metadata": {
        "id": "K7dOXzRaImIj"
      },
      "source": [
        "## Clean the data\n",
        "(only need to run one time to get the cleaned version)"
      ]
    },
    {
      "cell_type": "code",
      "execution_count": null,
      "metadata": {
        "id": "K5pKioVhIVOH"
      },
      "outputs": [],
      "source": [
        "# df = pd.read_csv(\"Crimes_-_2001_to_Present.csv\")\n",
        "# df = df.drop(['IUCR','Beat','District','Ward','Community Area','FBI Code','X Coordinate','Y Coordinate'], axis=1)\n",
        "# df = df.dropna()\n",
        "# column_mapping = {'Case Number': 'Case_Number', 'Primary Type': 'Primary_Type', 'Location Description': 'Location_Description','Updated On':'Updated_On'}\n",
        "# df.rename(columns=column_mapping, inplace=True)\n",
        "# df.to_csv('Crimes - 2001 to Present.csv', index=False)"
      ]
    },
    {
      "cell_type": "markdown",
      "metadata": {
        "id": "Uyzh7v6nJK0w"
      },
      "source": [
        "## filter the data\n",
        "filter only one row of data as shown data"
      ]
    },
    {
      "cell_type": "code",
      "execution_count": null,
      "metadata": {
        "id": "PYTheLgXJKgL",
        "outputId": "35dd65fa-1fd8-4974-95dc-e395c2e2e4cc"
      },
      "outputs": [
        {
          "data": {
            "text/html": [
              "<div>\n",
              "<style scoped>\n",
              "    .dataframe tbody tr th:only-of-type {\n",
              "        vertical-align: middle;\n",
              "    }\n",
              "\n",
              "    .dataframe tbody tr th {\n",
              "        vertical-align: top;\n",
              "    }\n",
              "\n",
              "    .dataframe thead th {\n",
              "        text-align: right;\n",
              "    }\n",
              "</style>\n",
              "<table border=\"1\" class=\"dataframe\">\n",
              "  <thead>\n",
              "    <tr style=\"text-align: right;\">\n",
              "      <th></th>\n",
              "      <th>ID</th>\n",
              "      <th>Case_Number</th>\n",
              "      <th>Date</th>\n",
              "      <th>Block</th>\n",
              "      <th>Primary_Type</th>\n",
              "      <th>Description</th>\n",
              "      <th>Location_Description</th>\n",
              "      <th>Arrest</th>\n",
              "      <th>Domestic</th>\n",
              "      <th>Year</th>\n",
              "      <th>Updated_On</th>\n",
              "      <th>Latitude</th>\n",
              "      <th>Longitude</th>\n",
              "      <th>Location</th>\n",
              "    </tr>\n",
              "  </thead>\n",
              "  <tbody>\n",
              "    <tr>\n",
              "      <th>1</th>\n",
              "      <td>10224739</td>\n",
              "      <td>HY411615</td>\n",
              "      <td>09/04/2015 11:30:00 AM</td>\n",
              "      <td>008XX N CENTRAL AVE</td>\n",
              "      <td>THEFT</td>\n",
              "      <td>POCKET-PICKING</td>\n",
              "      <td>CTA BUS</td>\n",
              "      <td>False</td>\n",
              "      <td>False</td>\n",
              "      <td>2015</td>\n",
              "      <td>02/10/2018 03:50:01 PM</td>\n",
              "      <td>41.89508</td>\n",
              "      <td>-87.7654</td>\n",
              "      <td>(41.895080471, -87.765400451)</td>\n",
              "    </tr>\n",
              "  </tbody>\n",
              "</table>\n",
              "</div>"
            ],
            "text/plain": [
              "         ID Case_Number                    Date                Block  \\\n",
              "1  10224739    HY411615  09/04/2015 11:30:00 AM  008XX N CENTRAL AVE   \n",
              "\n",
              "  Primary_Type     Description Location_Description  Arrest  Domestic  Year  \\\n",
              "1        THEFT  POCKET-PICKING              CTA BUS   False     False  2015   \n",
              "\n",
              "               Updated_On  Latitude  Longitude                       Location  \n",
              "1  02/10/2018 03:50:01 PM  41.89508   -87.7654  (41.895080471, -87.765400451)  "
            ]
          },
          "execution_count": 10,
          "metadata": {},
          "output_type": "execute_result"
        }
      ],
      "source": [
        "df = pd.read_csv(\"Crimes - 2001 to Present.csv\")\n",
        "test = df.iloc[1:2]\n",
        "test"
      ]
    },
    {
      "cell_type": "code",
      "execution_count": null,
      "metadata": {
        "id": "ukXiV7wnPeff"
      },
      "outputs": [],
      "source": [
        "test.to_csv('test.csv', index=False)"
      ]
    },
    {
      "cell_type": "markdown",
      "metadata": {
        "id": "q2umX6g2JbI6"
      },
      "source": [
        "## Connect to neo4j"
      ]
    },
    {
      "cell_type": "code",
      "execution_count": null,
      "metadata": {
        "id": "0DTCYg39Jd4W",
        "outputId": "eb1caa63-06fd-429a-f086-ae949a7ea61d"
      },
      "outputs": [
        {
          "name": "stdout",
          "output_type": "stream",
          "text": [
            "Successfully connected to Neo4j!\n"
          ]
        }
      ],
      "source": [
        "from neo4j import GraphDatabase\n",
        "\n",
        "database_name = \"neo4j\"\n",
        "username = \"neo4j\"\n",
        "password = \"apan5400\"\n",
        "uri = \"bolt://localhost:7687/apan5400\"\n",
        "\n",
        "driver = GraphDatabase.driver(uri, auth=(username, password))\n",
        "session = driver.session()\n",
        "\n",
        "print(\"Successfully connected to Neo4j!\")"
      ]
    },
    {
      "cell_type": "markdown",
      "metadata": {
        "id": "bTQw00GtJfZ-"
      },
      "source": [
        "## import and create relationship"
      ]
    },
    {
      "cell_type": "code",
      "execution_count": null,
      "metadata": {
        "id": "ueCwtIKXJiEv",
        "outputId": "1cb73b3c-65ec-4dac-9cd7-cc7de530147b"
      },
      "outputs": [
        {
          "name": "stdout",
          "output_type": "stream",
          "text": [
            "All companies are imported from a csv file!\n"
          ]
        }
      ],
      "source": [
        "query = (\n",
        "    \"LOAD CSV WITH HEADERS FROM 'file:///D:/Neo4j/.Neo4jDesktop/test.csv' AS line \"\n",
        "    \"CREATE (case_num:case_num { \\\n",
        "                   case_num: line.Case_Number \\\n",
        "                               } \\\n",
        "            )\"\n",
        "\n",
        "     \"MERGE (date:Date {case_num: line.Date})\"\n",
        "     \"MERGE (pri_type:Primary_Type {case_num: line.Primary_Type})\"\n",
        "     \"MERGE (arrest:Arrest {case_num: line.Arrest})\"\n",
        "     \"MERGE (year:Year {case_num: line.Year})\"\n",
        "     \"MERGE (location:Location {case_num: line.Location})\"\n",
        "     \"MERGE (block:Block {case_num: line.Block})\"\n",
        "     \"MERGE (description:Description {case_num: line.Description})\"\n",
        "     \"MERGE (loc_description:Location_Description {case_num: line.Location_Description})\"\n",
        "     \"MERGE (domestic:Domestic {case_num: line.Domestic})\"\n",
        "     \"MERGE (update:Updated_On {case_num: line.Updated_On})\"\n",
        "     \"MERGE (latitude:Latitude {case_num: line.Latitude})\"\n",
        "     \"MERGE (longitude:Longitude {case_num:line.Longitude})\"\n",
        "     \"CREATE (case_num)-[:HAPPENED_AT]->(date)\"\n",
        "     \"CREATE (date)-[:BELONG_TO]->(year)\"\n",
        "     \"CREATE (case_num)-[:UPDATED_ON]->(update)\"\n",
        "     \"CREATE (case_num)-[:LOCATED_IN]->(location)\"\n",
        "     \"CREATE (location)-[:INCLUDE_LONGITUDE]->(longitude)\"\n",
        "     \"CREATE (location)-[:INCLUDE_LATITUDE]->(latitude)\"\n",
        "     \"CREATE (block)-[:ADDRESS_IN]->(location)\"\n",
        "     \"CREATE (loc_description)-[:BELONG_TO]->(block)\"\n",
        "     \"CREATE (case_num)-[:RESULT]->(arrest)\"\n",
        "     \"CREATE (case_num)-[:IS_TYPE]->(pri_type)\"\n",
        "     \"CREATE (description)-[:DESCRIBE]->(pri_type)\"\n",
        "     \"CREATE (domestic)-[:IS_OR_NOT]->(pri_type)\"\n",
        "    )\n",
        "\n",
        "result = session.run(query)\n",
        "print(\"All companies are imported from a csv file!\")"
      ]
    },
    {
      "cell_type": "markdown",
      "metadata": {
        "id": "DxG7LE-nJwZv"
      },
      "source": [
        "## delete in the end"
      ]
    },
    {
      "cell_type": "code",
      "execution_count": null,
      "metadata": {
        "id": "Wkbe2I7kJyFS",
        "outputId": "b0cea305-18a6-4c44-ebd7-656a3ec2d366"
      },
      "outputs": [
        {
          "name": "stdout",
          "output_type": "stream",
          "text": [
            "All Nodes and relationships are deleted!\n"
          ]
        }
      ],
      "source": [
        "query = (\"MATCH (n) DETACH DELETE n\")\n",
        "result = session.run(query)\n",
        "print(\"All Nodes and relationships are deleted!\")"
      ]
    }
  ],
  "metadata": {
    "colab": {
      "provenance": [],
      "toc_visible": true,
      "include_colab_link": true
    },
    "kernelspec": {
      "display_name": "Python 3 (ipykernel)",
      "language": "python",
      "name": "python3"
    },
    "language_info": {
      "codemirror_mode": {
        "name": "ipython",
        "version": 3
      },
      "file_extension": ".py",
      "mimetype": "text/x-python",
      "name": "python",
      "nbconvert_exporter": "python",
      "pygments_lexer": "ipython3",
      "version": "3.9.13"
    }
  },
  "nbformat": 4,
  "nbformat_minor": 0
}