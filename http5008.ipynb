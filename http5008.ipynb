{
  "cells": [
    {
      "cell_type": "markdown",
      "metadata": {
        "id": "view-in-github",
        "colab_type": "text"
      },
      "source": [
        "<a href=\"https://colab.research.google.com/github/Kaguya2906/Chicago-City-Crime-Data-Retrieval-Platform/blob/main/http5008.ipynb\" target=\"_parent\"><img src=\"https://colab.research.google.com/assets/colab-badge.svg\" alt=\"Open In Colab\"/></a>"
      ]
    },
    {
      "cell_type": "code",
      "execution_count": null,
      "id": "1b11c2d5",
      "metadata": {
        "id": "1b11c2d5",
        "outputId": "d35ea5fa-fe58-4ba9-99fe-043b0701d659"
      },
      "outputs": [
        {
          "name": "stdout",
          "output_type": "stream",
          "text": [
            " * Serving Flask app \"MyApp\" (lazy loading)\n",
            " * Environment: production\n",
            "\u001b[31m   WARNING: This is a development server. Do not use it in a production deployment.\u001b[0m\n",
            "\u001b[2m   Use a production WSGI server instead.\u001b[0m\n",
            " * Debug mode: off\n"
          ]
        },
        {
          "name": "stderr",
          "output_type": "stream",
          "text": [
            " * Running on http://localhost:5008/ (Press CTRL+C to quit)\n",
            "127.0.0.1 - - [18/Apr/2023 21:56:42] \"GET / HTTP/1.1\" 200 -\n",
            "/var/folders/fh/q6gx0j6d0d5f_5pw7h91mcxc0000gn/T/ipykernel_14801/3478150053.py:25: DeprecationWarning: The 'body' parameter is deprecated and will be removed in a future version. Instead use individual parameters.\n",
            "  results = es.search(index='myindex', body=body)\n",
            "/var/folders/fh/q6gx0j6d0d5f_5pw7h91mcxc0000gn/T/ipykernel_14801/3478150053.py:25: ElasticsearchWarning: Elasticsearch built-in security features are not enabled. Without authentication, your cluster could be accessible to anyone. See https://www.elastic.co/guide/en/elasticsearch/reference/7.16/security-minimal-setup.html to enable security.\n",
            "  results = es.search(index='myindex', body=body)\n",
            "127.0.0.1 - - [18/Apr/2023 21:56:46] \"POST / HTTP/1.1\" 200 -\n",
            "127.0.0.1 - - [18/Apr/2023 21:56:51] \"GET / HTTP/1.1\" 200 -\n",
            "127.0.0.1 - - [18/Apr/2023 21:56:55] \"POST / HTTP/1.1\" 200 -\n",
            "127.0.0.1 - - [18/Apr/2023 21:57:01] \"GET / HTTP/1.1\" 200 -\n"
          ]
        }
      ],
      "source": [
        "from elasticsearch import Elasticsearch\n",
        "es = Elasticsearch([\"http://localhost:9200\"])\n",
        "\n",
        "from flask import Flask, render_template, request\n",
        "\n",
        "app = Flask(\"MyApp\")\n",
        "\n",
        "@app.route('/', methods=['GET', 'POST'])\n",
        "def search():\n",
        "    if request.method == 'POST':\n",
        "        # Handle POST requests\n",
        "        query = request.form.get('q')\n",
        "        if not query:\n",
        "            return render_template('search.html', results=None)\n",
        "        else:\n",
        "            body = {\n",
        "                \"query\": {\n",
        "                    \"multi_match\": {\n",
        "                        \"query\": query,\n",
        "                        \"fields\": [\"Date\", \"Primary Type\", \"Location Description\", \"Block\"]\n",
        "                    }\n",
        "                },\n",
        "                \"size\": 100  # Set size to retrieve up to 10 hits\n",
        "            }\n",
        "            results = es.search(index='myindex', body=body)\n",
        "            return render_template('results.html', query=query, results=results)\n",
        "    else:\n",
        "        # Handle GET requests\n",
        "        return render_template('search.html', results=None)\n",
        "\n",
        "import os\n",
        "\n",
        "template_dir = os.path.join(os.getcwd(), 'templates')\n",
        "\n",
        "if not os.path.exists(template_dir):\n",
        "    os.makedirs(template_dir)\n",
        "\n",
        "with open(os.path.join(template_dir, 'results.html'), 'w') as f:\n",
        "    f.write('''\n",
        "{% extends \"base.html\" %}\n",
        "\n",
        "{% block content %}\n",
        "  <h1>Search Results for \"{{ query }}\"</h1>\n",
        "  {% if results.hits %}\n",
        "    <table>\n",
        "      <thead>\n",
        "        <tr>\n",
        "          <th>Date</th>\n",
        "          <th>Primary Type</th>\n",
        "          <th>Description</th>\n",
        "          <th>Location Description</th>\n",
        "          <th>Block</th>\n",
        "          <th>Arrest</th>\n",
        "        </tr>\n",
        "      </thead>\n",
        "      <tbody>\n",
        "        {% for hit in results.hits.hits %}\n",
        "          {% set source = hit._source %}\n",
        "          <tr>\n",
        "            <td>{{ source.Date }}</td>\n",
        "            <td>{{ source['Primary Type'] }}</td>\n",
        "            <td>{{ source['Description'] }}</td>\n",
        "            <td>{{ source['Location Description'] }}</td>\n",
        "            <td>{{ source['Block'] }}</td>\n",
        "            <td>{{ source.Arrest }}</td>\n",
        "          </tr>\n",
        "        {% endfor %}\n",
        "      </tbody>\n",
        "    </table>\n",
        "  {% else %}\n",
        "    <p>No results found.</p>\n",
        "  {% endif %}\n",
        "{% endblock %}\n",
        "''')\n",
        "\n",
        "with open(os.path.join(template_dir, 'base.html'), 'w') as f:\n",
        "    f.write('''\n",
        "<!DOCTYPE html>\n",
        "<html>\n",
        "  <head>\n",
        "    <title>{% block title %}{% endblock %}</title>\n",
        "    <meta charset=\"UTF-8\">\n",
        "  </head>\n",
        "  <body>\n",
        "    {% block content %}{% endblock %}\n",
        "  </body>\n",
        "</html>\n",
        "''')\n",
        "\n",
        "if __name__ == '__main__':\n",
        "    app.run(host='localhost', port=5008)"
      ]
    },
    {
      "cell_type": "code",
      "execution_count": null,
      "id": "accf7135",
      "metadata": {
        "id": "accf7135"
      },
      "outputs": [],
      "source": []
    }
  ],
  "metadata": {
    "kernelspec": {
      "display_name": "Python 3 (ipykernel)",
      "language": "python",
      "name": "python3"
    },
    "language_info": {
      "codemirror_mode": {
        "name": "ipython",
        "version": 3
      },
      "file_extension": ".py",
      "mimetype": "text/x-python",
      "name": "python",
      "nbconvert_exporter": "python",
      "pygments_lexer": "ipython3",
      "version": "3.9.13"
    },
    "colab": {
      "provenance": [],
      "toc_visible": true,
      "include_colab_link": true
    }
  },
  "nbformat": 4,
  "nbformat_minor": 5
}