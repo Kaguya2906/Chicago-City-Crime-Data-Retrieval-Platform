{
  "cells": [
    {
      "cell_type": "markdown",
      "metadata": {
        "id": "view-in-github",
        "colab_type": "text"
      },
      "source": [
        "<a href=\"https://colab.research.google.com/github/Kaguya2906/Chicago-City-Crime-Data-Retrieval-Platform/blob/main/03.%20Main.ipynb\" target=\"_parent\"><img src=\"https://colab.research.google.com/assets/colab-badge.svg\" alt=\"Open In Colab\"/></a>"
      ]
    },
    {
      "cell_type": "markdown",
      "id": "00892c2a",
      "metadata": {
        "id": "00892c2a"
      },
      "source": [
        "# 01 Create and populate MongoDB database"
      ]
    },
    {
      "cell_type": "markdown",
      "id": "15258c47",
      "metadata": {
        "id": "15258c47"
      },
      "source": [
        "## Initialize MongoDB client and database"
      ]
    },
    {
      "cell_type": "code",
      "execution_count": null,
      "id": "63df5329",
      "metadata": {
        "id": "63df5329"
      },
      "outputs": [],
      "source": [
        "from pymongo import MongoClient\n",
        "client = MongoClient('localhost',27017) ## or MongoClient(\"localhost:27\")\n",
        "db = client.apan5400"
      ]
    },
    {
      "cell_type": "markdown",
      "id": "ff1b0365",
      "metadata": {
        "id": "ff1b0365"
      },
      "source": [
        "## Data Cleaning"
      ]
    },
    {
      "cell_type": "code",
      "execution_count": null,
      "id": "a27522c1",
      "metadata": {
        "id": "a27522c1"
      },
      "outputs": [],
      "source": [
        "df = df.drop(['IUCR','Beat','District','Ward','Community Area','FBI Code','X Coordinate','Y Coordinate'], axis=1)\n",
        "df = df.dropna()\n",
        "df.to_csv('Crimes_-_2001_to_Present.csv', index=False)\n",
        "df.columns\n",
        "mytype = df['Primary Type'].unique()"
      ]
    },
    {
      "cell_type": "markdown",
      "id": "bf8b0760",
      "metadata": {
        "id": "bf8b0760"
      },
      "source": [
        "#02 Working With JSON File"
      ]
    },
    {
      "cell_type": "markdown",
      "id": "ad735eb0",
      "metadata": {
        "id": "ad735eb0"
      },
      "source": [
        "## Convert to JSON\n",
        "Convert the DataFrame to a JSON object using the to_json() function, print out the list, and write it to a JSON string(text) file."
      ]
    },
    {
      "cell_type": "code",
      "execution_count": null,
      "id": "dcfe0e62",
      "metadata": {
        "id": "dcfe0e62"
      },
      "outputs": [],
      "source": [
        "import json\n",
        "from pprint import pprint\n",
        "json_list = df.to_json(orient='records')\n",
        "str_list = json.loads(json_list)"
      ]
    },
    {
      "cell_type": "code",
      "execution_count": null,
      "id": "c55848ae",
      "metadata": {
        "id": "c55848ae"
      },
      "outputs": [],
      "source": [
        "with open('Crimes_-_2001_to_Present.json', 'w') as f:\n",
        "    for record in str_list:\n",
        "        line = json.dumps(record)\n",
        "        f.write(line)\n",
        "        f.write(\"\\n\")"
      ]
    },
    {
      "cell_type": "markdown",
      "id": "611f7c98",
      "metadata": {
        "id": "611f7c98"
      },
      "source": [
        "Import the dataset, Insert multiple JSON documents, Read JSON string file into a Python array of dictionaries"
      ]
    },
    {
      "cell_type": "code",
      "execution_count": null,
      "id": "1307ccdb",
      "metadata": {
        "id": "1307ccdb"
      },
      "outputs": [],
      "source": [
        "import json\n",
        "json_data = open(\"Crimes_-_2001_to_Present.json\", 'r').readlines()\n",
        "newsfeeds = []\n",
        "for line in json_data:\n",
        "    newsfeeds.append(json.loads(line))\n",
        "print(len(newsfeeds))"
      ]
    },
    {
      "cell_type": "code",
      "execution_count": null,
      "id": "a5199e5e",
      "metadata": {
        "id": "a5199e5e"
      },
      "outputs": [],
      "source": [
        "from pprint import pprint\n",
        "pprint(newsfeeds[0])"
      ]
    },
    {
      "cell_type": "markdown",
      "id": "adcf0514",
      "metadata": {
        "id": "adcf0514"
      },
      "source": [
        "Count documents in the collection"
      ]
    },
    {
      "cell_type": "code",
      "execution_count": null,
      "id": "f56e2980",
      "metadata": {
        "id": "f56e2980"
      },
      "outputs": [],
      "source": [
        "# Up to 2023/04, there are 7760248 data entries\n",
        "collection.insert_many(newsfeeds)\n",
        "total_docs = collection.count_documents({})\n",
        "total_docs"
      ]
    },
    {
      "cell_type": "code",
      "execution_count": null,
      "id": "3a791d22",
      "metadata": {
        "id": "3a791d22",
        "outputId": "7b89ac50-fe19-4622-fcd8-1e42a99b002f"
      },
      "outputs": [
        {
          "data": {
            "text/plain": [
              "{'_id': ObjectId('64346c6a606e015b4418a9c1'),\n",
              " 'ID': 10224738,\n",
              " 'Case Number': 'HY411648',\n",
              " 'Date': '09/05/2015 01:30:00 PM',\n",
              " 'Block': '043XX S WOOD ST',\n",
              " 'Primary Type': 'BATTERY',\n",
              " 'Description': 'DOMESTIC BATTERY SIMPLE',\n",
              " 'Location Description': 'RESIDENCE',\n",
              " 'Arrest': False,\n",
              " 'Domestic': True,\n",
              " 'Year': 2015,\n",
              " 'Updated On': '02/10/2018 03:50:01 PM',\n",
              " 'Latitude': 41.815117282,\n",
              " 'Longitude': -87.669999562,\n",
              " 'Location': '(41.815117282, -87.669999562)'}"
            ]
          },
          "execution_count": 12,
          "metadata": {},
          "output_type": "execute_result"
        }
      ],
      "source": [
        "collection = db.crimes\n",
        "collection.find_one()"
      ]
    },
    {
      "cell_type": "markdown",
      "id": "7f719472",
      "metadata": {
        "id": "7f719472"
      },
      "source": [
        "# 03 Pipelines with Elasticsearch"
      ]
    },
    {
      "cell_type": "code",
      "execution_count": null,
      "id": "752aeb57",
      "metadata": {
        "id": "752aeb57"
      },
      "outputs": [],
      "source": [
        "#! pip install Elasticsearch"
      ]
    },
    {
      "cell_type": "code",
      "execution_count": null,
      "id": "25d85bf1",
      "metadata": {
        "id": "25d85bf1"
      },
      "outputs": [],
      "source": [
        "from elasticsearch import Elasticsearch\n",
        "es = Elasticsearch([\"http://localhost:9200\"])"
      ]
    },
    {
      "cell_type": "code",
      "execution_count": null,
      "id": "d135df91",
      "metadata": {
        "id": "d135df91",
        "outputId": "d8c96ec6-03f1-4054-8444-22818d4c241e"
      },
      "outputs": [
        {
          "data": {
            "text/plain": [
              "<pymongo.cursor.Cursor at 0x7f9776c8b0a0>"
            ]
          },
          "execution_count": 15,
          "metadata": {},
          "output_type": "execute_result"
        }
      ],
      "source": [
        "results = collection.find({})\n",
        "results"
      ]
    },
    {
      "cell_type": "code",
      "execution_count": null,
      "id": "08b30c76",
      "metadata": {
        "id": "08b30c76"
      },
      "outputs": [],
      "source": [
        "collection.find_one()"
      ]
    },
    {
      "cell_type": "code",
      "execution_count": null,
      "id": "35d5c9da",
      "metadata": {
        "id": "35d5c9da"
      },
      "outputs": [],
      "source": [
        "#! pip install tqdm"
      ]
    },
    {
      "cell_type": "code",
      "execution_count": null,
      "id": "b575e4b9",
      "metadata": {
        "id": "b575e4b9"
      },
      "outputs": [],
      "source": [
        "# Just have to run once\n",
        "from tqdm import tqdm\n",
        "for result in tqdm(results, total=total_docs, desc=\"Indexing documents\"):\n",
        "    doc = dict(result)\n",
        "    doc.pop('_id', None)  # remove ObjectId field\n",
        "    es.index(index=\"myindex\", document=doc)"
      ]
    },
    {
      "cell_type": "markdown",
      "id": "d863c993",
      "metadata": {
        "id": "d863c993"
      },
      "source": [
        "## Elasticsearch\n",
        "\n",
        "Below I ask the function to return 10 hits, just to make sure that everything is set up correctly. Later it will be connected to the front-end in https://5008"
      ]
    },
    {
      "cell_type": "code",
      "execution_count": null,
      "id": "fe3eb9aa",
      "metadata": {
        "id": "fe3eb9aa",
        "outputId": "05355781-3165-4f72-db2c-5ceea117b033"
      },
      "outputs": [
        {
          "name": "stderr",
          "output_type": "stream",
          "text": [
            "/var/folders/fh/q6gx0j6d0d5f_5pw7h91mcxc0000gn/T/ipykernel_2659/2446453107.py:12: DeprecationWarning: The 'body' parameter is deprecated and will be removed in a future version. Instead use individual parameters.\n",
            "  response = es.search(body=body)\n"
          ]
        },
        {
          "name": "stdout",
          "output_type": "stream",
          "text": [
            "    _index _type                   _id    _score  \\\n",
            "0  myindex  _doc  Y8k_bocBFS-c2pFbSy4v  9.951579   \n",
            "1  myindex  _doc  kMlCbocBFS-c2pFbx7rM  9.951579   \n",
            "2  myindex  _doc  4MlCbocBFS-c2pFbyrpQ  9.951579   \n",
            "3  myindex  _doc  0slCbocBFS-c2pFb0bs4  9.951579   \n",
            "4  myindex  _doc  gMlCbocBFS-c2pFb1ryn  9.951579   \n",
            "5  myindex  _doc  o8lCbocBFS-c2pFb17yu  9.951579   \n",
            "6  myindex  _doc  _slCbocBFS-c2pFb2rxt  9.951579   \n",
            "7  myindex  _doc  JslCbocBFS-c2pFb273j  9.951579   \n",
            "8  myindex  _doc  T8lCbocBFS-c2pFb3b2V  9.951579   \n",
            "9  myindex  _doc  D8lCbocBFS-c2pFb476p  9.951579   \n",
            "\n",
            "                                             _source  \n",
            "0  {'Primary Type': 'OFFENSE INVOLVING CHILDREN',...  \n",
            "1  {'Primary Type': 'THEFT', 'Arrest': False, 'Lo...  \n",
            "2  {'Primary Type': 'BATTERY', 'Arrest': True, 'L...  \n",
            "3  {'Primary Type': 'THEFT', 'Arrest': False, 'Lo...  \n",
            "4  {'Primary Type': 'ASSAULT', 'Arrest': False, '...  \n",
            "5  {'Primary Type': 'THEFT', 'Arrest': False, 'Lo...  \n",
            "6  {'Primary Type': 'THEFT', 'Arrest': False, 'Lo...  \n",
            "7  {'Primary Type': 'OTHER OFFENSE', 'Arrest': Tr...  \n",
            "8  {'Primary Type': 'BATTERY', 'Arrest': False, '...  \n",
            "9  {'Primary Type': 'ASSAULT', 'Arrest': False, '...  \n"
          ]
        },
        {
          "name": "stderr",
          "output_type": "stream",
          "text": [
            "/var/folders/fh/q6gx0j6d0d5f_5pw7h91mcxc0000gn/T/ipykernel_2659/2446453107.py:12: ElasticsearchWarning: Elasticsearch built-in security features are not enabled. Without authentication, your cluster could be accessible to anyone. See https://www.elastic.co/guide/en/elasticsearch/reference/7.16/security-minimal-setup.html to enable security.\n",
            "  response = es.search(body=body)\n"
          ]
        }
      ],
      "source": [
        "def search(query):\n",
        "    body = {\n",
        "        \"source\": [\"Date\", \"Primary Type\", \"Location Description\",\"Arrest\"],\n",
        "        \"query\": {\n",
        "            \"multi_match\": {\n",
        "                \"query\": query,\n",
        "                \"fields\": [\"Date\"]\n",
        "            }\n",
        "        },\n",
        "        \"size\": 10  # Set size to retrieve up to 10 hits\n",
        "    }\n",
        "    response = es.search(body=body)\n",
        "    return response['hits']['hits']\n",
        "\n",
        "# print the search results\n",
        "search_results = search(\"02/10/2018 01:30:00 PM\")\n",
        "print(pd.DataFrame(search_results))"
      ]
    },
    {
      "cell_type": "markdown",
      "id": "9547522a",
      "metadata": {
        "id": "9547522a"
      },
      "source": [
        "# 04 Working with Flask\n",
        "\n",
        "Connect Flask to MongoDB and Elasticsearch in a)HTML Webpage format and b)User-Interface format"
      ]
    },
    {
      "cell_type": "markdown",
      "id": "e0ce382e",
      "metadata": {
        "id": "e0ce382e"
      },
      "source": [
        "## Simple Output"
      ]
    },
    {
      "cell_type": "markdown",
      "id": "ef09f1b5",
      "metadata": {
        "id": "ef09f1b5"
      },
      "source": [
        "Open a web browser and navigate to http://localhost:5007/ to view the home page of the Flask application."
      ]
    },
    {
      "cell_type": "code",
      "execution_count": null,
      "id": "77a44252",
      "metadata": {
        "id": "77a44252"
      },
      "outputs": [],
      "source": [
        "from flask import Flask, render_template\n",
        "app = Flask(\"MyApp\")\n",
        "\n",
        "@app.route('/')\n",
        "def hello_world():\n",
        "    output = \"Hey, we are Group 1! This is the homepage of our Flask application. Here we build two searching engine to retrive information of Chicago Crime Reporting.\"\n",
        "    return render_template('index.html', result=output)\n",
        "    #return output"
      ]
    },
    {
      "cell_type": "code",
      "execution_count": null,
      "id": "ce20f87d",
      "metadata": {
        "id": "ce20f87d",
        "outputId": "08c0f5f9-299b-44cc-93bf-379cff6e342b"
      },
      "outputs": [
        {
          "name": "stdout",
          "output_type": "stream",
          "text": [
            " * Serving Flask app \"MyApp\" (lazy loading)\n",
            " * Environment: production\n",
            "\u001b[31m   WARNING: This is a development server. Do not use it in a production deployment.\u001b[0m\n",
            "\u001b[2m   Use a production WSGI server instead.\u001b[0m\n",
            " * Debug mode: off\n"
          ]
        },
        {
          "name": "stderr",
          "output_type": "stream",
          "text": [
            " * Running on http://localhost:5007/ (Press CTRL+C to quit)\n",
            "127.0.0.1 - - [18/Apr/2023 21:56:30] \"GET / HTTP/1.1\" 200 -\n"
          ]
        }
      ],
      "source": [
        "app.run(host='localhost', port=5007)"
      ]
    },
    {
      "cell_type": "markdown",
      "id": "0bfe009b",
      "metadata": {
        "id": "0bfe009b"
      },
      "source": [
        "## Interactive Output"
      ]
    },
    {
      "cell_type": "markdown",
      "id": "db637908",
      "metadata": {
        "id": "db637908"
      },
      "source": [
        "### Connect Flask to Elasticsearch\n",
        "\n",
        "http://localhost:5008/"
      ]
    },
    {
      "cell_type": "code",
      "execution_count": null,
      "id": "c064019d",
      "metadata": {
        "id": "c064019d",
        "outputId": "fcc88236-0097-4d58-cbd5-64700c59a632"
      },
      "outputs": [
        {
          "name": "stdout",
          "output_type": "stream",
          "text": [
            " * Serving Flask app \"MyApp\" (lazy loading)\n",
            " * Environment: production\n",
            "\u001b[31m   WARNING: This is a development server. Do not use it in a production deployment.\u001b[0m\n",
            "\u001b[2m   Use a production WSGI server instead.\u001b[0m\n",
            " * Debug mode: off\n"
          ]
        },
        {
          "name": "stderr",
          "output_type": "stream",
          "text": [
            " * Running on http://localhost:5008/ (Press CTRL+C to quit)\n"
          ]
        }
      ],
      "source": [
        "from elasticsearch import Elasticsearch\n",
        "es = Elasticsearch([\"http://localhost:9200\"])\n",
        "\n",
        "from flask import Flask, render_template, request\n",
        "\n",
        "app = Flask(\"MyApp\")\n",
        "\n",
        "@app.route('/', methods=['GET', 'POST'])\n",
        "def search():\n",
        "    if request.method == 'POST':\n",
        "        # Handle POST requests\n",
        "        query = request.form.get('q')\n",
        "        if not query:\n",
        "            return render_template('search.html', results=None)\n",
        "        else:\n",
        "            body = {\n",
        "                \"query\": {\n",
        "                    \"multi_match\": {\n",
        "                        \"query\": query,\n",
        "                        \"fields\": [\"Date\", \"Primary Type\", \"Location Description\"]\n",
        "                    }\n",
        "                },\n",
        "                \"size\": 100  # Set size to retrieve up to 10 hits\n",
        "            }\n",
        "            results = es.search(index='myindex', body=body)\n",
        "            return render_template('results.html', query=query, results=results)\n",
        "    else:\n",
        "        # Handle GET requests\n",
        "        return render_template('search.html', results=None)\n",
        "\n",
        "import os\n",
        "\n",
        "template_dir = os.path.join(os.getcwd(), 'templates')\n",
        "\n",
        "if not os.path.exists(template_dir):\n",
        "    os.makedirs(template_dir)\n",
        "\n",
        "with open(os.path.join(template_dir, 'results.html'), 'w') as f:\n",
        "    f.write('''\n",
        "{% extends \"base.html\" %}\n",
        "\n",
        "{% block content %}\n",
        "  <h1>Search Results for \"{{ query }}\"</h1>\n",
        "  {% if results.hits %}\n",
        "    <table>\n",
        "      <thead>\n",
        "        <tr>\n",
        "          <th>Date</th>\n",
        "          <th>Primary Type</th>\n",
        "          <th>Location Description</th>\n",
        "          <th>Arrest</th>\n",
        "        </tr>\n",
        "      </thead>\n",
        "      <tbody>\n",
        "        {% for hit in results.hits.hits %}\n",
        "          {% set source = hit._source %}\n",
        "          <tr>\n",
        "            <td>{{ source.Date }}</td>\n",
        "            <td>{{ source['Primary Type'] }}</td>\n",
        "            <td>{{ source['Location Description'] }}</td>\n",
        "            <td>{{ source.Arrest }}</td>\n",
        "          </tr>\n",
        "        {% endfor %}\n",
        "      </tbody>\n",
        "    </table>\n",
        "  {% else %}\n",
        "    <p>No results found.</p>\n",
        "  {% endif %}\n",
        "{% endblock %}\n",
        "''')\n",
        "\n",
        "with open(os.path.join(template_dir, 'base.html'), 'w') as f:\n",
        "    f.write('''\n",
        "<!DOCTYPE html>\n",
        "<html>\n",
        "  <head>\n",
        "    <title>{% block title %}{% endblock %}</title>\n",
        "    <meta charset=\"UTF-8\">\n",
        "  </head>\n",
        "  <body>\n",
        "    {% block content %}{% endblock %}\n",
        "  </body>\n",
        "</html>\n",
        "''')\n",
        "\n",
        "if __name__ == '__main__':\n",
        "    app.run(host='localhost', port=5008)"
      ]
    },
    {
      "cell_type": "markdown",
      "id": "6cd1f4ed",
      "metadata": {
        "id": "6cd1f4ed"
      },
      "source": [
        "### Connect Flask to MongoDB\n",
        "\n",
        "Since Elasticsearch is a fine-tuned version of MongoDB, we decided to keep the Elasticsearch version, which is neat and fast. I leave the code here for backup."
      ]
    },
    {
      "cell_type": "code",
      "execution_count": null,
      "id": "60237a9e",
      "metadata": {
        "id": "60237a9e",
        "outputId": "a14b8aba-2ed4-48a2-9709-e10618b2257f"
      },
      "outputs": [
        {
          "name": "stdout",
          "output_type": "stream",
          "text": [
            " * Serving Flask app \"MyApp\" (lazy loading)\n",
            " * Environment: production\n",
            "\u001b[31m   WARNING: This is a development server. Do not use it in a production deployment.\u001b[0m\n",
            "\u001b[2m   Use a production WSGI server instead.\u001b[0m\n",
            " * Debug mode: off\n"
          ]
        },
        {
          "name": "stderr",
          "output_type": "stream",
          "text": [
            " * Running on http://127.0.0.1:5000/ (Press CTRL+C to quit)\n"
          ]
        }
      ],
      "source": [
        "from flask import Flask, render_template, request\n",
        "from pymongo import MongoClient\n",
        "from tqdm import tqdm\n",
        "\n",
        "app = Flask(\"MyApp\")\n",
        "client = MongoClient('mongodb://localhost:27017')\n",
        "db = client.apan5400\n",
        "collection = db['crimes']\n",
        "\n",
        "@app.route('/', methods=['GET', 'POST'])\n",
        "def search():\n",
        "    if request.method == 'POST':\n",
        "        query = request.form['query']\n",
        "        results = []\n",
        "        total_docs = collection.count_documents({})\n",
        "        for result in tqdm(collection.find({\"$text\": {\"$search\": query}}), total=total_docs, desc=\"Searching documents\"):\n",
        "            doc = dict(result)\n",
        "            doc.pop('_id', None)  # remove ObjectId field\n",
        "            results.append(doc)\n",
        "        return render_template('results.html', results=results, query=query)\n",
        "    return render_template('search.html')\n",
        "\n",
        "import os\n",
        "\n",
        "template_dir = os.path.join(os.getcwd(), 'templates')\n",
        "\n",
        "if not os.path.exists(template_dir):\n",
        "    os.makedirs(template_dir)\n",
        "\n",
        "with open(os.path.join(template_dir, 'results.html'), 'w') as f:\n",
        "    f.write('''\n",
        "<!DOCTYPE html>\n",
        "<html>\n",
        "  <head>\n",
        "    <title>Search Results</title>\n",
        "    <style>\n",
        "      table {\n",
        "        width: 100%;\n",
        "        border-collapse: collapse;\n",
        "      }\n",
        "      th, td {\n",
        "        border: 1px solid black;\n",
        "        padding: 8px;\n",
        "        text-align: left;\n",
        "      }\n",
        "      th {\n",
        "        background-color: #f2f2f2;\n",
        "      }\n",
        "    </style>\n",
        "  </head>\n",
        "  <body>\n",
        "    <h1>Search Results for \"{{ query }}\"</h1>\n",
        "    {% if results %}\n",
        "      <table>\n",
        "        <tr>\n",
        "          {% for key in results[0].keys() %}\n",
        "            <th>{{ key }}</th>\n",
        "          {% endfor %}\n",
        "        </tr>\n",
        "        {% for result in results %}\n",
        "          <tr>\n",
        "            {% for value in result.values() %}\n",
        "              <td>{{ value }}</td>\n",
        "            {% endfor %}\n",
        "          </tr>\n",
        "        {% endfor %}\n",
        "      </table>\n",
        "    {% else %}\n",
        "      <p>No results found.</p >\n",
        "    {% endif %}\n",
        "  </body>\n",
        "</html>\n",
        "\n",
        "    ''')\n",
        "\n",
        "if __name__ == '__main__':\n",
        "    app.run()"
      ]
    },
    {
      "cell_type": "code",
      "execution_count": null,
      "id": "b3e22f0b",
      "metadata": {
        "id": "b3e22f0b"
      },
      "outputs": [],
      "source": []
    }
  ],
  "metadata": {
    "kernelspec": {
      "display_name": "Python 3 (ipykernel)",
      "language": "python",
      "name": "python3"
    },
    "language_info": {
      "codemirror_mode": {
        "name": "ipython",
        "version": 3
      },
      "file_extension": ".py",
      "mimetype": "text/x-python",
      "name": "python",
      "nbconvert_exporter": "python",
      "pygments_lexer": "ipython3",
      "version": "3.9.13"
    },
    "colab": {
      "provenance": [],
      "toc_visible": true,
      "include_colab_link": true
    }
  },
  "nbformat": 4,
  "nbformat_minor": 5
}